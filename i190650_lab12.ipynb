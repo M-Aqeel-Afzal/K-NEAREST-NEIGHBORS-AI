{
 "cells": [
  {
   "cell_type": "code",
   "execution_count": 1,
   "id": "197e1c87",
   "metadata": {},
   "outputs": [],
   "source": [
    "import numpy as np\n",
    "import pandas as pd\n",
    "from sklearn.model_selection import train_test_split\n",
    "import math"
   ]
  },
  {
   "cell_type": "code",
   "execution_count": 2,
   "id": "48e1ad48",
   "metadata": {},
   "outputs": [],
   "source": [
    "\n",
    "def Euclidian_Distance(Point1,Point2):\n",
    "    Point1 = np.array(Point1)\n",
    "    Point2 = np.array(Point2)\n",
    "    part1=0.0\n",
    "    \n",
    "    for i in range(len(P1)):\n",
    "        part1=part1+((Point1[i]-Point2[i])**2)\n",
    "     \n",
    "    \n",
    "    dist = math.sqrt(part1)\n",
    "    return dist\n",
    "    "
   ]
  },
  {
   "cell_type": "code",
   "execution_count": 3,
   "id": "74d12af0",
   "metadata": {},
   "outputs": [],
   "source": [
    "def getKNearest(distances,k):\n",
    "    distances.sort()\n",
    "    answer=distances[0:k]\n",
    "    # Sort on the basis of distances and label\n",
    "    # Get top k distances from the list of values\n",
    "    return answer"
   ]
  },
  {
   "cell_type": "code",
   "execution_count": 4,
   "id": "ad036ebf",
   "metadata": {},
   "outputs": [],
   "source": [
    "def getClasses(k_nearest):\n",
    "    answer=[]\n",
    "    for i in k_nearest:\n",
    "        answer.append(i[-1])\n",
    "    # From the tuples list - k_nearest, fetch the classes only and return their list\n",
    "    return answer"
   ]
  },
  {
   "cell_type": "code",
   "execution_count": 5,
   "id": "a6ab2b82",
   "metadata": {},
   "outputs": [],
   "source": [
    "def getMaxClass(classes,k):\n",
    "    classes = np.array(classes)\n",
    "    # Get the Max Class using np unique to get the count of each class\n",
    "    unique, counts = np.unique(classes, return_counts=True)\n",
    "    if len(counts)==1:\n",
    "        return unique[0]\n",
    "    if counts[0]==k:\n",
    "        return unique[0]\n",
    "    if counts[0]==counts[1]:\n",
    "        return unique[0]\n",
    "    elif counts[0]>counts[1]:\n",
    "        return unique[0]\n",
    "    else: \n",
    "        return unique[1]"
   ]
  },
  {
   "cell_type": "code",
   "execution_count": 6,
   "id": "4a3132bc",
   "metadata": {},
   "outputs": [],
   "source": [
    "def KNN(X_train, X_test, y_train, k):\n",
    "    X_train = X_train.values\n",
    "    X_train=X_train.tolist()\n",
    "    \n",
    "    X_test = X_test.values\n",
    "    X_test=X_test.tolist()\n",
    "    \n",
    "    y_train = y_train.values\n",
    "    y_train=y_train.tolist()\n",
    "    # make list pred\n",
    "    pred=[]\n",
    "    # Iterate over the entire test set\n",
    "    for count in range(len(X_test)):   \n",
    "       # make an info list \n",
    "        info=[]\n",
    "       # Iterate over the etire training set\n",
    "        for trainCount in range(len(X_train)):\n",
    "            # Calculate the euclidean Distance of test and train\n",
    "            distance=Euclidian_Distance(X_test[count],X_train[trainCount])\n",
    "            # add eucl. dist and the label to the info list #(you will get the label from the y_train)\n",
    "            inp=[]\n",
    "            inp.append(distance)\n",
    "            inp.append(y_train[trainCount])\n",
    "            info.append(inp)\n",
    "            # thus info list will be list of tupples\n",
    "      # Find the k nearest info labels #(you will have list of tupples)\n",
    "        Knearest=getKNearest(info,k)\n",
    "      # Get the classes from the info labels #(you will have list of 0/1 (lables))\n",
    "        classes=getClasses(Knearest)\n",
    "      # The predicted class will be the one with the highest score  (use max fun to get pred1)\n",
    "        predClass=getMaxClass(classes,k)\n",
    "      # add pred1 to list pred\n",
    "        pred.append(predClass)\n",
    "      # return pred  \n",
    "        \n",
    "    return pred"
   ]
  },
  {
   "cell_type": "code",
   "execution_count": 7,
   "id": "7079aa0d",
   "metadata": {},
   "outputs": [],
   "source": [
    "def Accuracy (prediction,Ytest):\n",
    "    Ytest = Ytest.values\n",
    "    Ytest=Ytest.tolist()\n",
    "    correct = 0.000000\n",
    "    for i in range (len(prediction)):\n",
    "        if (prediction[i] == Ytest[i]):\n",
    "            correct += 1  \n",
    "\n",
    "    accuracy = correct/len(Ytest)\n",
    "    accuracy*=100\n",
    "    print (\"Accuracy Score is: \", accuracy)"
   ]
  },
  {
   "cell_type": "code",
   "execution_count": 8,
   "id": "8c11f610",
   "metadata": {},
   "outputs": [],
   "source": [
    "data=pd.read_csv('diabetes.csv')\n",
    "zero_not_accepted=['Glucose','BloodPressure','SkinThickness','BMI','Insulin']\n",
    "for col in zero_not_accepted:\n",
    "    data[col]=data[col].replace(0,np.NaN)\n",
    "    mean=int(data[col].mean(skipna=True))\n",
    "    data[col]=data[col].replace(np.NaN,mean)"
   ]
  },
  {
   "cell_type": "code",
   "execution_count": 9,
   "id": "a082d408",
   "metadata": {},
   "outputs": [],
   "source": [
    "X=data.iloc[:,0:8]\n",
    "y=data.iloc[:,8]"
   ]
  },
  {
   "cell_type": "code",
   "execution_count": 10,
   "id": "dfec008d",
   "metadata": {},
   "outputs": [],
   "source": [
    "X_train,X_test,y_train,y_test=train_test_split(X,y,test_size=0.2,random_state=0)\n"
   ]
  },
  {
   "cell_type": "code",
   "execution_count": 12,
   "id": "ac2a67b1",
   "metadata": {},
   "outputs": [
    {
     "name": "stdout",
     "output_type": "stream",
     "text": [
      "[1, 0, 0, 1, 0, 0, 1, 1, 0, 0, 0, 1, 0, 0, 0, 0, 1, 0, 0, 0, 0, 0, 0, 0, 0, 0, 0, 1, 0, 0, 1, 1, 0, 1, 0, 1, 1, 0, 1, 1, 0, 0, 0, 1, 1, 0, 0, 0, 0, 0, 1, 1, 0, 1, 0, 0, 0, 0, 1, 0, 1, 0, 0, 1, 1, 1, 1, 1, 1, 0, 0, 0, 0, 1, 1, 0, 0, 1, 0, 0, 1, 0, 0, 0, 0, 0, 0, 0, 1, 0, 0, 0, 0, 0, 1, 0, 0, 0, 0, 1, 0, 0, 0, 0, 1, 1, 0, 1, 0, 1, 0, 0, 1, 0, 1, 1, 0, 1, 0, 1, 1, 0, 0, 0, 0, 0, 0, 0, 1, 1, 0, 0, 0, 1, 0, 0, 0, 0, 0, 0, 0, 1, 0, 0, 1, 0, 0, 0, 0, 0, 0, 0, 0, 0]\n",
      "Accuracy Score is:  72.72727272727273\n"
     ]
    }
   ],
   "source": [
    "preds = KNN(X_train,X_test,y_train, 3)\n",
    "print(preds)\n",
    "Accuracy(preds,y_test)"
   ]
  },
  {
   "cell_type": "code",
   "execution_count": null,
   "id": "b9b71d09",
   "metadata": {},
   "outputs": [],
   "source": []
  },
  {
   "cell_type": "code",
   "execution_count": null,
   "id": "f92a6c3d",
   "metadata": {},
   "outputs": [],
   "source": []
  },
  {
   "cell_type": "code",
   "execution_count": null,
   "id": "397a2c48",
   "metadata": {},
   "outputs": [],
   "source": []
  }
 ],
 "metadata": {
  "kernelspec": {
   "display_name": "Python 3 (ipykernel)",
   "language": "python",
   "name": "python3"
  },
  "language_info": {
   "codemirror_mode": {
    "name": "ipython",
    "version": 3
   },
   "file_extension": ".py",
   "mimetype": "text/x-python",
   "name": "python",
   "nbconvert_exporter": "python",
   "pygments_lexer": "ipython3",
   "version": "3.9.7"
  }
 },
 "nbformat": 4,
 "nbformat_minor": 5
}
